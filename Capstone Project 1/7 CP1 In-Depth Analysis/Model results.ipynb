{
 "cells": [
  {
   "cell_type": "code",
   "execution_count": 16,
   "metadata": {},
   "outputs": [],
   "source": [
    "import pandas as pd\n",
    "import numpy as np\n",
    "import matplotlib.pyplot as plt"
   ]
  },
  {
   "cell_type": "code",
   "execution_count": 79,
   "metadata": {},
   "outputs": [],
   "source": [
    "df_results = pd.DataFrame([['KNN',6.34,327.27,0.9333,149,42.9]]\n",
    "                       , columns=['model','mae','mse','r2','trainingTime','executionTime'])"
   ]
  },
  {
   "cell_type": "code",
   "execution_count": 80,
   "metadata": {},
   "outputs": [],
   "source": [
    "df_results = df_results.append(pd.DataFrame([['RandomForestwithCV',8.16, 127.44,0.9477,130*60,180]]\n",
    "                       , columns=['model','mae','mse','r2','trainingTime','executionTime']))"
   ]
  },
  {
   "cell_type": "code",
   "execution_count": 81,
   "metadata": {},
   "outputs": [],
   "source": [
    "df_results = df_results.append(pd.DataFrame([['LSTM24hrWindow',1.15,5.19, 0.6078,600,10]]\n",
    "                       , columns=['model','mae','mse','r2','trainingTime','executionTime']))"
   ]
  },
  {
   "cell_type": "code",
   "execution_count": 82,
   "metadata": {},
   "outputs": [],
   "source": [
    "df_results = df_results.append(pd.DataFrame([['OLS',6.91, 355.92, 0.93,3.18,0.2]]\n",
    "                       , columns=['model','mae','mse','r2','trainingTime','executionTime']))"
   ]
  },
  {
   "cell_type": "code",
   "execution_count": 83,
   "metadata": {},
   "outputs": [],
   "source": [
    "df_results = df_results.append(pd.DataFrame([['Ridge',6.91, 355.92, 0.93,0.37,0.15]]\n",
    "                       , columns=['model','mae','mse','r2','trainingTime','executionTime']))"
   ]
  },
  {
   "cell_type": "code",
   "execution_count": null,
   "metadata": {},
   "outputs": [],
   "source": [
    "df_results = df_results.append(pd.DataFrame([['SVRLinear',1.15,5.19, 0.6078,600,10]]\n",
    "                       , columns=['model','mae','mse','r2','trainingTime','executionTime']))"
   ]
  },
  {
   "cell_type": "code",
   "execution_count": null,
   "metadata": {},
   "outputs": [],
   "source": [
    "df_results = df_results.append(pd.DataFrame([['SVRrbf',1.15,5.19, 0.6078,600,10]]\n",
    "                       , columns=['model','mae','mse','r2','trainingTime','executionTime']))"
   ]
  },
  {
   "cell_type": "code",
   "execution_count": 84,
   "metadata": {},
   "outputs": [
    {
     "data": {
      "text/html": [
       "<div>\n",
       "<style scoped>\n",
       "    .dataframe tbody tr th:only-of-type {\n",
       "        vertical-align: middle;\n",
       "    }\n",
       "\n",
       "    .dataframe tbody tr th {\n",
       "        vertical-align: top;\n",
       "    }\n",
       "\n",
       "    .dataframe thead th {\n",
       "        text-align: right;\n",
       "    }\n",
       "</style>\n",
       "<table border=\"1\" class=\"dataframe\">\n",
       "  <thead>\n",
       "    <tr style=\"text-align: right;\">\n",
       "      <th></th>\n",
       "      <th>model</th>\n",
       "      <th>mae</th>\n",
       "      <th>mse</th>\n",
       "      <th>r2</th>\n",
       "      <th>trainingTime</th>\n",
       "      <th>executionTime</th>\n",
       "    </tr>\n",
       "  </thead>\n",
       "  <tbody>\n",
       "    <tr>\n",
       "      <th>0</th>\n",
       "      <td>KNN</td>\n",
       "      <td>6.34</td>\n",
       "      <td>327.27</td>\n",
       "      <td>0.9333</td>\n",
       "      <td>149.00</td>\n",
       "      <td>42.90</td>\n",
       "    </tr>\n",
       "    <tr>\n",
       "      <th>0</th>\n",
       "      <td>RandomForestwithCV</td>\n",
       "      <td>8.16</td>\n",
       "      <td>127.44</td>\n",
       "      <td>0.9477</td>\n",
       "      <td>7800.00</td>\n",
       "      <td>180.00</td>\n",
       "    </tr>\n",
       "    <tr>\n",
       "      <th>0</th>\n",
       "      <td>LSTM24hrWindow</td>\n",
       "      <td>1.15</td>\n",
       "      <td>5.19</td>\n",
       "      <td>0.6078</td>\n",
       "      <td>600.00</td>\n",
       "      <td>10.00</td>\n",
       "    </tr>\n",
       "    <tr>\n",
       "      <th>0</th>\n",
       "      <td>OLS</td>\n",
       "      <td>6.91</td>\n",
       "      <td>355.92</td>\n",
       "      <td>0.9300</td>\n",
       "      <td>3.18</td>\n",
       "      <td>0.20</td>\n",
       "    </tr>\n",
       "    <tr>\n",
       "      <th>0</th>\n",
       "      <td>Ridge</td>\n",
       "      <td>6.91</td>\n",
       "      <td>355.92</td>\n",
       "      <td>0.9300</td>\n",
       "      <td>0.37</td>\n",
       "      <td>0.15</td>\n",
       "    </tr>\n",
       "  </tbody>\n",
       "</table>\n",
       "</div>"
      ],
      "text/plain": [
       "                model   mae     mse      r2  trainingTime  executionTime\n",
       "0                 KNN  6.34  327.27  0.9333        149.00          42.90\n",
       "0  RandomForestwithCV  8.16  127.44  0.9477       7800.00         180.00\n",
       "0      LSTM24hrWindow  1.15    5.19  0.6078        600.00          10.00\n",
       "0                 OLS  6.91  355.92  0.9300          3.18           0.20\n",
       "0               Ridge  6.91  355.92  0.9300          0.37           0.15"
      ]
     },
     "execution_count": 84,
     "metadata": {},
     "output_type": "execute_result"
    }
   ],
   "source": [
    "df_results"
   ]
  },
  {
   "cell_type": "code",
   "execution_count": 85,
   "metadata": {},
   "outputs": [
    {
     "data": {
      "text/html": [
       "<div>\n",
       "<style scoped>\n",
       "    .dataframe tbody tr th:only-of-type {\n",
       "        vertical-align: middle;\n",
       "    }\n",
       "\n",
       "    .dataframe tbody tr th {\n",
       "        vertical-align: top;\n",
       "    }\n",
       "\n",
       "    .dataframe thead th {\n",
       "        text-align: right;\n",
       "    }\n",
       "</style>\n",
       "<table border=\"1\" class=\"dataframe\">\n",
       "  <thead>\n",
       "    <tr style=\"text-align: right;\">\n",
       "      <th></th>\n",
       "      <th>mae</th>\n",
       "      <th>mse</th>\n",
       "      <th>r2</th>\n",
       "      <th>trainingTime</th>\n",
       "      <th>executionTime</th>\n",
       "      <th>model</th>\n",
       "    </tr>\n",
       "  </thead>\n",
       "  <tbody>\n",
       "    <tr>\n",
       "      <th>0</th>\n",
       "      <td>0.776961</td>\n",
       "      <td>0.919504</td>\n",
       "      <td>0.984805</td>\n",
       "      <td>0.019103</td>\n",
       "      <td>0.238333</td>\n",
       "      <td>KNN</td>\n",
       "    </tr>\n",
       "    <tr>\n",
       "      <th>1</th>\n",
       "      <td>1.000000</td>\n",
       "      <td>0.358058</td>\n",
       "      <td>1.000000</td>\n",
       "      <td>1.000000</td>\n",
       "      <td>1.000000</td>\n",
       "      <td>RandomForestwithCV</td>\n",
       "    </tr>\n",
       "    <tr>\n",
       "      <th>2</th>\n",
       "      <td>0.140931</td>\n",
       "      <td>0.014582</td>\n",
       "      <td>0.641342</td>\n",
       "      <td>0.076923</td>\n",
       "      <td>0.055556</td>\n",
       "      <td>LSTM24hrWindow</td>\n",
       "    </tr>\n",
       "    <tr>\n",
       "      <th>3</th>\n",
       "      <td>0.846814</td>\n",
       "      <td>1.000000</td>\n",
       "      <td>0.981323</td>\n",
       "      <td>0.000408</td>\n",
       "      <td>0.001111</td>\n",
       "      <td>OLS</td>\n",
       "    </tr>\n",
       "    <tr>\n",
       "      <th>4</th>\n",
       "      <td>0.846814</td>\n",
       "      <td>1.000000</td>\n",
       "      <td>0.981323</td>\n",
       "      <td>0.000047</td>\n",
       "      <td>0.000833</td>\n",
       "      <td>Ridge</td>\n",
       "    </tr>\n",
       "  </tbody>\n",
       "</table>\n",
       "</div>"
      ],
      "text/plain": [
       "        mae       mse        r2  trainingTime  executionTime  \\\n",
       "0  0.776961  0.919504  0.984805      0.019103       0.238333   \n",
       "1  1.000000  0.358058  1.000000      1.000000       1.000000   \n",
       "2  0.140931  0.014582  0.641342      0.076923       0.055556   \n",
       "3  0.846814  1.000000  0.981323      0.000408       0.001111   \n",
       "4  0.846814  1.000000  0.981323      0.000047       0.000833   \n",
       "\n",
       "                model  \n",
       "0                 KNN  \n",
       "1  RandomForestwithCV  \n",
       "2      LSTM24hrWindow  \n",
       "3                 OLS  \n",
       "4               Ridge  "
      ]
     },
     "execution_count": 85,
     "metadata": {},
     "output_type": "execute_result"
    }
   ],
   "source": [
    "from sklearn import preprocessing\n",
    "\n",
    "x = df_results[['mae','mse','r2', 'trainingTime', 'executionTime']].values #returns a numpy array\n",
    "min_max_scaler = preprocessing.MaxAbsScaler()\n",
    "x_scaled = min_max_scaler.fit_transform(x)\n",
    "df_results1 = pd.DataFrame(x_scaled, columns=['mae','mse','r2', 'trainingTime', 'executionTime'])\n",
    "df_results1['model'] = df_results['model'].values\n",
    "# df_results1['trainingTime'] = df_results['trainingTime'].values\n",
    "# df_results1['executionTime'] = df_results['executionTime'].values\n",
    "df_results1"
   ]
  },
  {
   "cell_type": "code",
   "execution_count": 86,
   "metadata": {},
   "outputs": [
    {
     "data": {
      "image/png": "[encoded data removed]",
      "text/plain": [
       "<Figure size 432x288 with 1 Axes>"
      ]
     },
     "metadata": {},
     "output_type": "display_data"
    },
    {
     "data": {
      "text/html": [
       "<div>\n",
       "<style scoped>\n",
       "    .dataframe tbody tr th:only-of-type {\n",
       "        vertical-align: middle;\n",
       "    }\n",
       "\n",
       "    .dataframe tbody tr th {\n",
       "        vertical-align: top;\n",
       "    }\n",
       "\n",
       "    .dataframe thead th {\n",
       "        text-align: right;\n",
       "    }\n",
       "</style>\n",
       "<table border=\"1\" class=\"dataframe\">\n",
       "  <thead>\n",
       "    <tr style=\"text-align: right;\">\n",
       "      <th></th>\n",
       "      <th>model</th>\n",
       "      <th>mae</th>\n",
       "      <th>mse</th>\n",
       "      <th>r2</th>\n",
       "      <th>trainingTime</th>\n",
       "      <th>executionTime</th>\n",
       "    </tr>\n",
       "  </thead>\n",
       "  <tbody>\n",
       "    <tr>\n",
       "      <th>0</th>\n",
       "      <td>KNN</td>\n",
       "      <td>6.34</td>\n",
       "      <td>327.27</td>\n",
       "      <td>0.9333</td>\n",
       "      <td>149.00</td>\n",
       "      <td>42.90</td>\n",
       "    </tr>\n",
       "    <tr>\n",
       "      <th>0</th>\n",
       "      <td>RandomForestwithCV</td>\n",
       "      <td>8.16</td>\n",
       "      <td>127.44</td>\n",
       "      <td>0.9477</td>\n",
       "      <td>7800.00</td>\n",
       "      <td>180.00</td>\n",
       "    </tr>\n",
       "    <tr>\n",
       "      <th>0</th>\n",
       "      <td>LSTM24hrWindow</td>\n",
       "      <td>1.15</td>\n",
       "      <td>5.19</td>\n",
       "      <td>0.6078</td>\n",
       "      <td>600.00</td>\n",
       "      <td>10.00</td>\n",
       "    </tr>\n",
       "    <tr>\n",
       "      <th>0</th>\n",
       "      <td>OLS</td>\n",
       "      <td>6.91</td>\n",
       "      <td>355.92</td>\n",
       "      <td>0.9300</td>\n",
       "      <td>3.18</td>\n",
       "      <td>0.20</td>\n",
       "    </tr>\n",
       "    <tr>\n",
       "      <th>0</th>\n",
       "      <td>Ridge</td>\n",
       "      <td>6.91</td>\n",
       "      <td>355.92</td>\n",
       "      <td>0.9300</td>\n",
       "      <td>0.37</td>\n",
       "      <td>0.15</td>\n",
       "    </tr>\n",
       "  </tbody>\n",
       "</table>\n",
       "</div>"
      ],
      "text/plain": [
       "                model   mae     mse      r2  trainingTime  executionTime\n",
       "0                 KNN  6.34  327.27  0.9333        149.00          42.90\n",
       "0  RandomForestwithCV  8.16  127.44  0.9477       7800.00         180.00\n",
       "0      LSTM24hrWindow  1.15    5.19  0.6078        600.00          10.00\n",
       "0                 OLS  6.91  355.92  0.9300          3.18           0.20\n",
       "0               Ridge  6.91  355.92  0.9300          0.37           0.15"
      ]
     },
     "execution_count": 86,
     "metadata": {},
     "output_type": "execute_result"
    }
   ],
   "source": [
    "df_results1.plot(kind='bar', x='model',y=['r2','mse','mae', 'trainingTime', 'executionTime'], rot=45\n",
    "                , legend='upper center')\n",
    "plt.legend(loc='center left', bbox_to_anchor=(1.0, 0.5))\n",
    "plt.show()\n",
    "df_results.head()"
   ]
  }
 ],
 "metadata": {
  "kernelspec": {
   "display_name": "Python 3",
   "language": "python",
   "name": "python3"
  },
  "language_info": {
   "codemirror_mode": {
    "name": "ipython",
    "version": 3
   },
   "file_extension": ".py",
   "mimetype": "text/x-python",
   "name": "python",
   "nbconvert_exporter": "python",
   "pygments_lexer": "ipython3",
   "version": "3.7.4"
  }
 },
 "nbformat": 4,
 "nbformat_minor": 2
}
