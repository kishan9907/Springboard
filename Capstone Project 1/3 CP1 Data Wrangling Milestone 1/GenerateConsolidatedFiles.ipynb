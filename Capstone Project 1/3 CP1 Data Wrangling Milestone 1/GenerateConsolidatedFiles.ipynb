{
 "cells": [
  {
   "cell_type": "code",
   "execution_count": 1,
   "metadata": {},
   "outputs": [
    {
     "name": "stderr",
     "output_type": "stream",
     "text": [
      "C:\\Users\\kisha\\Anaconda3\\lib\\site-packages\\statsmodels\\tools\\_testing.py:19: FutureWarning: pandas.util.testing is deprecated. Use the functions in the public API at pandas.testing instead.\n",
      "  import pandas.util.testing as tm\n"
     ]
    }
   ],
   "source": [
    "import geopandas as gpd\n",
    "import matplotlib.pyplot as plt\n",
    "import pandas as pd\n",
    "from folium.features import GeoJson, GeoJsonTooltip, GeoJsonPopup\n",
    "from folium.plugins import TimeSliderChoropleth\n",
    "import seaborn as sns\n",
    "import os\n",
    "%matplotlib inline"
   ]
  },
  {
   "cell_type": "code",
   "execution_count": null,
   "metadata": {},
   "outputs": [],
   "source": [
    "%%time\n",
    "os.chdir(r\"..\\Datasets Italia\\Telecommunications - SMS, Call, Internet - MI\")\n",
    "cdf = pd.DataFrame()\n",
    "for k,v in enumerate(os.listdir()):\n",
    "    if 'sms' in v:\n",
    "        df = pd.read_csv(v,delimiter='\\t', header=None, names=['cellId','timeInterval','countryCode','SMSin','SMSout','callIn','callOut', 'internet'])\n",
    "        df['timeInterval'] = pd.to_datetime(df['timeInterval'],unit='ms').dt.tz_localize('UTC').dt.tz_convert('CET')\n",
    "        df2 = df.loc[:,['timeInterval','SMSin','SMSout','callIn','callOut','internet']].fillna(0)\n",
    "        df2 = df2.set_index('timeInterval')\n",
    "        df3 = df2.resample('10T').sum()\n",
    "        cdf = cdf.append(df3)\n",
    "        print(k, v)"
   ]
  },
  {
   "cell_type": "code",
   "execution_count": 2,
   "metadata": {},
   "outputs": [
    {
     "ename": "NameError",
     "evalue": "name 'cdf' is not defined",
     "output_type": "error",
     "traceback": [
      "\u001b[1;31m---------------------------------------------------------------------------\u001b[0m",
      "\u001b[1;31mNameError\u001b[0m                                 Traceback (most recent call last)",
      "\u001b[1;32m<ipython-input-2-0b65988c8c2b>\u001b[0m in \u001b[0;36m<module>\u001b[1;34m\u001b[0m\n\u001b[1;32m----> 1\u001b[1;33m \u001b[0mcdf\u001b[0m\u001b[1;33m.\u001b[0m\u001b[0mto_csv\u001b[0m\u001b[1;33m(\u001b[0m\u001b[1;34m'10Mins-Consolidated-sms-call-internet.csv'\u001b[0m\u001b[1;33m)\u001b[0m\u001b[1;33m\u001b[0m\u001b[1;33m\u001b[0m\u001b[0m\n\u001b[0m",
      "\u001b[1;31mNameError\u001b[0m: name 'cdf' is not defined"
     ]
    }
   ],
   "source": [
    "cdf.to_csv('10Mins-Consolidated.csv')"
   ]
  },
  {
   "cell_type": "code",
   "execution_count": 2,
   "metadata": {
    "scrolled": true
   },
   "outputs": [
    {
     "name": "stdout",
     "output_type": "stream",
     "text": [
      "5 sms-call-internet-mi-2013-11-01.txt\n",
      "6 sms-call-internet-mi-2013-11-02.txt\n",
      "7 sms-call-internet-mi-2013-11-03.txt\n",
      "8 sms-call-internet-mi-2013-11-04.txt\n",
      "9 sms-call-internet-mi-2013-11-05.txt\n",
      "10 sms-call-internet-mi-2013-11-06.txt\n",
      "11 sms-call-internet-mi-2013-11-07.txt\n",
      "12 sms-call-internet-mi-2013-11-08.txt\n",
      "13 sms-call-internet-mi-2013-11-09.txt\n",
      "14 sms-call-internet-mi-2013-11-10.txt\n",
      "15 sms-call-internet-mi-2013-11-11.txt\n",
      "16 sms-call-internet-mi-2013-11-12.txt\n",
      "17 sms-call-internet-mi-2013-11-13.txt\n",
      "18 sms-call-internet-mi-2013-11-14.txt\n",
      "19 sms-call-internet-mi-2013-11-15.txt\n",
      "20 sms-call-internet-mi-2013-11-16.txt\n",
      "21 sms-call-internet-mi-2013-11-17.txt\n",
      "22 sms-call-internet-mi-2013-11-18.txt\n",
      "23 sms-call-internet-mi-2013-11-19.txt\n",
      "24 sms-call-internet-mi-2013-11-20.txt\n",
      "25 sms-call-internet-mi-2013-11-21.txt\n",
      "26 sms-call-internet-mi-2013-11-22.txt\n",
      "27 sms-call-internet-mi-2013-11-23.txt\n",
      "28 sms-call-internet-mi-2013-11-24.txt\n",
      "29 sms-call-internet-mi-2013-11-25.txt\n",
      "30 sms-call-internet-mi-2013-11-26.txt\n",
      "31 sms-call-internet-mi-2013-11-27.txt\n",
      "32 sms-call-internet-mi-2013-11-28.txt\n",
      "33 sms-call-internet-mi-2013-11-29.txt\n",
      "34 sms-call-internet-mi-2013-11-30.txt\n",
      "35 sms-call-internet-mi-2013-12-01.txt\n",
      "36 sms-call-internet-mi-2013-12-02.txt\n",
      "37 sms-call-internet-mi-2013-12-03.txt\n",
      "38 sms-call-internet-mi-2013-12-04.txt\n",
      "39 sms-call-internet-mi-2013-12-05.txt\n",
      "40 sms-call-internet-mi-2013-12-06.txt\n",
      "41 sms-call-internet-mi-2013-12-07.txt\n",
      "42 sms-call-internet-mi-2013-12-08.txt\n",
      "43 sms-call-internet-mi-2013-12-09.txt\n",
      "44 sms-call-internet-mi-2013-12-10.txt\n",
      "45 sms-call-internet-mi-2013-12-11.txt\n",
      "46 sms-call-internet-mi-2013-12-12.txt\n",
      "47 sms-call-internet-mi-2013-12-13.txt\n",
      "48 sms-call-internet-mi-2013-12-14.txt\n",
      "49 sms-call-internet-mi-2013-12-15.txt\n",
      "50 sms-call-internet-mi-2013-12-16.txt\n",
      "51 sms-call-internet-mi-2013-12-17.txt\n",
      "52 sms-call-internet-mi-2013-12-18.txt\n",
      "53 sms-call-internet-mi-2013-12-19.txt\n",
      "54 sms-call-internet-mi-2013-12-20.txt\n",
      "55 sms-call-internet-mi-2013-12-21.txt\n",
      "56 sms-call-internet-mi-2013-12-22.txt\n",
      "57 sms-call-internet-mi-2013-12-23.txt\n",
      "58 sms-call-internet-mi-2013-12-24.txt\n",
      "59 sms-call-internet-mi-2013-12-25.txt\n",
      "60 sms-call-internet-mi-2013-12-26.txt\n",
      "61 sms-call-internet-mi-2013-12-27.txt\n",
      "62 sms-call-internet-mi-2013-12-28.txt\n",
      "63 sms-call-internet-mi-2013-12-29.txt\n",
      "Wall time: 19min 26s\n"
     ]
    }
   ],
   "source": [
    "%%time\n",
    "os.chdir(r\"C:\\Users\\kisha\\Documents\\Springboard Data Science\\Capstone Project 1\\Datasets Italia\\Telecommunications - SMS, Call, Internet - MI\")\n",
    "cdf = pd.DataFrame()\n",
    "for k,v in enumerate(os.listdir()):\n",
    "    if 'sms' in v:\n",
    "        df = pd.read_csv(v,delimiter='\\t', header=None, names=['cellId','timeInterval','countryCode','SMSin','SMSout','callIn','callOut', 'internet'])\n",
    "#         df['timeInterval'] = pd.to_datetime(df['timeInterval'],unit='ms').dt.tz_localize('UTC').dt.tz_convert('CET')\n",
    "        df2 = df.loc[:,['cellId','timeInterval','SMSin','SMSout','callIn','callOut','internet']].fillna(0)\n",
    "        df2['SMS'] = df2['SMSin'] + df2['SMSout']\n",
    "        df2['call'] = df2['callIn'] + df2['callOut']\n",
    "        groupdf = df2.groupby(['timeInterval','cellId'])['SMSin','SMSout','callIn','callOut','internet','SMS','call'].sum()\n",
    "        cdf = cdf.append(groupdf)\n",
    "        print(k, v)"
   ]
  },
  {
   "cell_type": "code",
   "execution_count": 82,
   "metadata": {},
   "outputs": [],
   "source": [
    "cdf.to_csv('10Mins-Consolidated-with-cellid.txt',sep='\\t')"
   ]
  },
  {
   "cell_type": "code",
   "execution_count": 3,
   "metadata": {},
   "outputs": [
    {
     "name": "stdout",
     "output_type": "stream",
     "text": [
      "<class 'pandas.core.frame.DataFrame'>\n",
      "MultiIndex: 84929138 entries, (1383260400000, 1) to (1388357400000, 10000)\n",
      "Data columns (total 7 columns):\n",
      "SMSin       float64\n",
      "SMSout      float64\n",
      "callIn      float64\n",
      "callOut     float64\n",
      "internet    float64\n",
      "SMS         float64\n",
      "call        float64\n",
      "dtypes: float64(7)\n",
      "memory usage: 4.7 GB\n"
     ]
    }
   ],
   "source": [
    "cdf.info()"
   ]
  },
  {
   "cell_type": "code",
   "execution_count": 92,
   "metadata": {},
   "outputs": [],
   "source": [
    "cdf1 = cdf.copy()"
   ]
  },
  {
   "cell_type": "code",
   "execution_count": 94,
   "metadata": {},
   "outputs": [],
   "source": [
    "cdf1 = cdf1.reset_index()"
   ]
  },
  {
   "cell_type": "code",
   "execution_count": 95,
   "metadata": {},
   "outputs": [],
   "source": [
    "cdf1['timeIntervalts'] = pd.to_datetime(cd1f['timeInterval'],unit='ms').dt.tz_localize('UTC').dt.tz_convert('CET')"
   ]
  },
  {
   "cell_type": "code",
   "execution_count": 96,
   "metadata": {},
   "outputs": [],
   "source": [
    "cdf1 = cdf1.set_index(['cellId','timeIntervalts'])"
   ]
  },
  {
   "cell_type": "code",
   "execution_count": 97,
   "metadata": {},
   "outputs": [],
   "source": [
    "cdf2 = cdf1.groupby([pd.Grouper(level='cellId'),pd.Grouper(level='timeIntervalts',freq='H')]).sum()"
   ]
  },
  {
   "cell_type": "code",
   "execution_count": 99,
   "metadata": {},
   "outputs": [],
   "source": [
    "cdf2.to_csv('Hourly-Consolidated-with-cellid.txt',sep='\\t')"
   ]
  },
  {
   "cell_type": "code",
   "execution_count": 109,
   "metadata": {
    "scrolled": true
   },
   "outputs": [
    {
     "data": {
      "text/html": [
       "<div>\n",
       "<style scoped>\n",
       "    .dataframe tbody tr th:only-of-type {\n",
       "        vertical-align: middle;\n",
       "    }\n",
       "\n",
       "    .dataframe tbody tr th {\n",
       "        vertical-align: top;\n",
       "    }\n",
       "\n",
       "    .dataframe thead th {\n",
       "        text-align: right;\n",
       "    }\n",
       "</style>\n",
       "<table border=\"1\" class=\"dataframe\">\n",
       "  <thead>\n",
       "    <tr style=\"text-align: right;\">\n",
       "      <th></th>\n",
       "      <th></th>\n",
       "      <th>timeInterval</th>\n",
       "      <th>SMSin</th>\n",
       "      <th>SMSout</th>\n",
       "      <th>callIn</th>\n",
       "      <th>callOut</th>\n",
       "      <th>internet</th>\n",
       "      <th>SMS</th>\n",
       "      <th>call</th>\n",
       "    </tr>\n",
       "    <tr>\n",
       "      <th>cellId</th>\n",
       "      <th>timeIntervalts</th>\n",
       "      <th></th>\n",
       "      <th></th>\n",
       "      <th></th>\n",
       "      <th></th>\n",
       "      <th></th>\n",
       "      <th></th>\n",
       "      <th></th>\n",
       "      <th></th>\n",
       "    </tr>\n",
       "  </thead>\n",
       "  <tbody>\n",
       "    <tr>\n",
       "      <td rowspan=\"5\" valign=\"top\">1</td>\n",
       "      <td>2013-12-29 00:00:00+01:00</td>\n",
       "      <td>27667681800000</td>\n",
       "      <td>11.614903</td>\n",
       "      <td>6.186866</td>\n",
       "      <td>5.204528</td>\n",
       "      <td>5.640638</td>\n",
       "      <td>205.769225</td>\n",
       "      <td>17.801769</td>\n",
       "      <td>10.845166</td>\n",
       "    </tr>\n",
       "    <tr>\n",
       "      <td>2013-12-29 01:00:00+01:00</td>\n",
       "      <td>15217584000000</td>\n",
       "      <td>6.222223</td>\n",
       "      <td>2.949818</td>\n",
       "      <td>3.222296</td>\n",
       "      <td>3.576615</td>\n",
       "      <td>108.364250</td>\n",
       "      <td>9.172042</td>\n",
       "      <td>6.798911</td>\n",
       "    </tr>\n",
       "    <tr>\n",
       "      <td>2013-12-29 02:00:00+01:00</td>\n",
       "      <td>12450302400000</td>\n",
       "      <td>4.761782</td>\n",
       "      <td>3.334068</td>\n",
       "      <td>2.709599</td>\n",
       "      <td>3.281181</td>\n",
       "      <td>91.990481</td>\n",
       "      <td>8.095851</td>\n",
       "      <td>5.990780</td>\n",
       "    </tr>\n",
       "    <tr>\n",
       "      <td>2013-12-29 03:00:00+01:00</td>\n",
       "      <td>13834195200000</td>\n",
       "      <td>4.755038</td>\n",
       "      <td>3.279420</td>\n",
       "      <td>3.112042</td>\n",
       "      <td>4.580512</td>\n",
       "      <td>113.159767</td>\n",
       "      <td>8.034458</td>\n",
       "      <td>7.692554</td>\n",
       "    </tr>\n",
       "    <tr>\n",
       "      <td>2013-12-29 04:00:00+01:00</td>\n",
       "      <td>15217366200000</td>\n",
       "      <td>5.370352</td>\n",
       "      <td>3.094265</td>\n",
       "      <td>2.262312</td>\n",
       "      <td>2.347458</td>\n",
       "      <td>109.195008</td>\n",
       "      <td>8.464617</td>\n",
       "      <td>4.609771</td>\n",
       "    </tr>\n",
       "    <tr>\n",
       "      <td>...</td>\n",
       "      <td>...</td>\n",
       "      <td>...</td>\n",
       "      <td>...</td>\n",
       "      <td>...</td>\n",
       "      <td>...</td>\n",
       "      <td>...</td>\n",
       "      <td>...</td>\n",
       "      <td>...</td>\n",
       "      <td>...</td>\n",
       "    </tr>\n",
       "    <tr>\n",
       "      <td rowspan=\"5\" valign=\"top\">10000</td>\n",
       "      <td>2013-12-29 19:00:00+01:00</td>\n",
       "      <td>30433977000000</td>\n",
       "      <td>27.862764</td>\n",
       "      <td>19.290816</td>\n",
       "      <td>21.308455</td>\n",
       "      <td>25.513559</td>\n",
       "      <td>494.887836</td>\n",
       "      <td>47.153580</td>\n",
       "      <td>46.822014</td>\n",
       "    </tr>\n",
       "    <tr>\n",
       "      <td>2013-12-29 20:00:00+01:00</td>\n",
       "      <td>20750777400000</td>\n",
       "      <td>15.187433</td>\n",
       "      <td>10.354212</td>\n",
       "      <td>11.834990</td>\n",
       "      <td>13.847210</td>\n",
       "      <td>297.898329</td>\n",
       "      <td>25.541645</td>\n",
       "      <td>25.682200</td>\n",
       "    </tr>\n",
       "    <tr>\n",
       "      <td>2013-12-29 21:00:00+01:00</td>\n",
       "      <td>20750215800000</td>\n",
       "      <td>24.075500</td>\n",
       "      <td>16.685875</td>\n",
       "      <td>14.957908</td>\n",
       "      <td>15.870766</td>\n",
       "      <td>392.917872</td>\n",
       "      <td>40.761375</td>\n",
       "      <td>30.828674</td>\n",
       "    </tr>\n",
       "    <tr>\n",
       "      <td>2013-12-29 22:00:00+01:00</td>\n",
       "      <td>24901110600000</td>\n",
       "      <td>21.115529</td>\n",
       "      <td>17.211963</td>\n",
       "      <td>17.224146</td>\n",
       "      <td>17.066921</td>\n",
       "      <td>368.219706</td>\n",
       "      <td>38.327491</td>\n",
       "      <td>34.291067</td>\n",
       "    </tr>\n",
       "    <tr>\n",
       "      <td>2013-12-29 23:00:00+01:00</td>\n",
       "      <td>29051204400000</td>\n",
       "      <td>23.994500</td>\n",
       "      <td>18.118360</td>\n",
       "      <td>13.848778</td>\n",
       "      <td>16.035157</td>\n",
       "      <td>392.155027</td>\n",
       "      <td>42.112860</td>\n",
       "      <td>29.883935</td>\n",
       "    </tr>\n",
       "  </tbody>\n",
       "</table>\n",
       "<p>239998 rows × 8 columns</p>\n",
       "</div>"
      ],
      "text/plain": [
       "                                    timeInterval      SMSin     SMSout  \\\n",
       "cellId timeIntervalts                                                    \n",
       "1      2013-12-29 00:00:00+01:00  27667681800000  11.614903   6.186866   \n",
       "       2013-12-29 01:00:00+01:00  15217584000000   6.222223   2.949818   \n",
       "       2013-12-29 02:00:00+01:00  12450302400000   4.761782   3.334068   \n",
       "       2013-12-29 03:00:00+01:00  13834195200000   4.755038   3.279420   \n",
       "       2013-12-29 04:00:00+01:00  15217366200000   5.370352   3.094265   \n",
       "...                                          ...        ...        ...   \n",
       "10000  2013-12-29 19:00:00+01:00  30433977000000  27.862764  19.290816   \n",
       "       2013-12-29 20:00:00+01:00  20750777400000  15.187433  10.354212   \n",
       "       2013-12-29 21:00:00+01:00  20750215800000  24.075500  16.685875   \n",
       "       2013-12-29 22:00:00+01:00  24901110600000  21.115529  17.211963   \n",
       "       2013-12-29 23:00:00+01:00  29051204400000  23.994500  18.118360   \n",
       "\n",
       "                                     callIn    callOut    internet        SMS  \\\n",
       "cellId timeIntervalts                                                           \n",
       "1      2013-12-29 00:00:00+01:00   5.204528   5.640638  205.769225  17.801769   \n",
       "       2013-12-29 01:00:00+01:00   3.222296   3.576615  108.364250   9.172042   \n",
       "       2013-12-29 02:00:00+01:00   2.709599   3.281181   91.990481   8.095851   \n",
       "       2013-12-29 03:00:00+01:00   3.112042   4.580512  113.159767   8.034458   \n",
       "       2013-12-29 04:00:00+01:00   2.262312   2.347458  109.195008   8.464617   \n",
       "...                                     ...        ...         ...        ...   \n",
       "10000  2013-12-29 19:00:00+01:00  21.308455  25.513559  494.887836  47.153580   \n",
       "       2013-12-29 20:00:00+01:00  11.834990  13.847210  297.898329  25.541645   \n",
       "       2013-12-29 21:00:00+01:00  14.957908  15.870766  392.917872  40.761375   \n",
       "       2013-12-29 22:00:00+01:00  17.224146  17.066921  368.219706  38.327491   \n",
       "       2013-12-29 23:00:00+01:00  13.848778  16.035157  392.155027  42.112860   \n",
       "\n",
       "                                       call  \n",
       "cellId timeIntervalts                        \n",
       "1      2013-12-29 00:00:00+01:00  10.845166  \n",
       "       2013-12-29 01:00:00+01:00   6.798911  \n",
       "       2013-12-29 02:00:00+01:00   5.990780  \n",
       "       2013-12-29 03:00:00+01:00   7.692554  \n",
       "       2013-12-29 04:00:00+01:00   4.609771  \n",
       "...                                     ...  \n",
       "10000  2013-12-29 19:00:00+01:00  46.822014  \n",
       "       2013-12-29 20:00:00+01:00  25.682200  \n",
       "       2013-12-29 21:00:00+01:00  30.828674  \n",
       "       2013-12-29 22:00:00+01:00  34.291067  \n",
       "       2013-12-29 23:00:00+01:00  29.883935  \n",
       "\n",
       "[239998 rows x 8 columns]"
      ]
     },
     "execution_count": 109,
     "metadata": {},
     "output_type": "execute_result"
    }
   ],
   "source": [
    "cdf2"
   ]
  },
  {
   "cell_type": "code",
   "execution_count": 4,
   "metadata": {},
   "outputs": [],
   "source": [
    "cdfD = cdf.copy()"
   ]
  },
  {
   "cell_type": "code",
   "execution_count": 5,
   "metadata": {},
   "outputs": [],
   "source": [
    "cdfD = cdfD.reset_index()"
   ]
  },
  {
   "cell_type": "code",
   "execution_count": 6,
   "metadata": {},
   "outputs": [],
   "source": [
    "cdfD['timeIntervalts'] = pd.to_datetime(cdfD['timeInterval'],unit='ms').dt.tz_localize('UTC').dt.tz_convert('CET')"
   ]
  },
  {
   "cell_type": "code",
   "execution_count": 7,
   "metadata": {},
   "outputs": [],
   "source": [
    "cdfD = cdfD.set_index(['cellId','timeIntervalts'])"
   ]
  },
  {
   "cell_type": "code",
   "execution_count": 8,
   "metadata": {},
   "outputs": [],
   "source": [
    "cdfD2 = cdfD.groupby([pd.Grouper(level='cellId'),pd.Grouper(level='timeIntervalts',freq='D')]).sum()"
   ]
  },
  {
   "cell_type": "code",
   "execution_count": 9,
   "metadata": {},
   "outputs": [],
   "source": [
    "cdfD2.to_csv('Daily-Consolidated-with-cellid.txt',sep='\\t')"
   ]
  },
  {
   "cell_type": "code",
   "execution_count": 2,
   "metadata": {},
   "outputs": [],
   "source": [
    "hourlydf = pd.read_csv('..\\Datasets Italia\\Telecommunications - SMS, Call, Internet - MI\\Hourly-Consolidated-with-cellid.txt',delimiter='\\t')\n",
    "hourlydf['timeIntervalts'] = pd.to_datetime(hourlydf['timeIntervalts'])\n",
    "hourlydf['hour'] = hourlydf['timeIntervalts'].dt.hour\n",
    "hourlydf['day'] = hourlydf['timeIntervalts'].dt.day_name()\n",
    "hourlydf.to_csv('..\\Datasets Italia\\Telecommunications - SMS, Call, Internet - MI\\Hourly-Consolidated-cellid_day.txt',sep='\\t')"
   ]
  },
  {
   "cell_type": "code",
   "execution_count": null,
   "metadata": {},
   "outputs": [],
   "source": [
    "hourlydf.to_pickle('hourlydf.p')"
   ]
  }
 ],
 "metadata": {
  "kernelspec": {
   "display_name": "Python 3",
   "language": "python",
   "name": "python3"
  },
  "language_info": {
   "codemirror_mode": {
    "name": "ipython",
    "version": 3
   },
   "file_extension": ".py",
   "mimetype": "text/x-python",
   "name": "python",
   "nbconvert_exporter": "python",
   "pygments_lexer": "ipython3",
   "version": "3.7.4"
  }
 },
 "nbformat": 4,
 "nbformat_minor": 2
}
